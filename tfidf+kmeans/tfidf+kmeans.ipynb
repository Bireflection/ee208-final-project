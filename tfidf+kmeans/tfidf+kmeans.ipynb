{
 "cells": [
  {
   "cell_type": "code",
   "execution_count": 1,
   "id": "c07a6116",
   "metadata": {},
   "outputs": [],
   "source": [
    "import numpy as np\n",
    "import matplotlib.pyplot as plt\n",
    "import sklearn\n",
    "import jieba\n",
    "import pandas as pd\n",
    "import re\n",
    "from sklearn.feature_extraction.text import TfidfVectorizer, CountVectorizer\n",
    "from sklearn.cluster import KMeans"
   ]
  },
  {
   "cell_type": "code",
   "execution_count": 2,
   "id": "0a737f14",
   "metadata": {},
   "outputs": [],
   "source": [
    "contents = [each.strip() for each in open(\"./index1.txt\", encoding=\"utf-8\").readlines()]\n",
    "stopwords = set(each.strip() for each in open(\"./stopwords.txt\", encoding=\"utf-8\").readlines())\n",
    "stopwords.add(\" \")"
   ]
  },
  {
   "cell_type": "code",
   "execution_count": 3,
   "id": "508069d8",
   "metadata": {},
   "outputs": [
    {
     "name": "stderr",
     "output_type": "stream",
     "text": [
      "Building prefix dict from the default dictionary ...\n",
      "Loading model from cache C:\\Users\\050443\\AppData\\Local\\Temp\\jieba.cache\n",
      "Loading model cost 0.486 seconds.\n",
      "Prefix dict has been built successfully.\n"
     ]
    }
   ],
   "source": [
    "def tokenize(text_list, stop):\n",
    "    texts = []\n",
    "    tokenized_texts = []\n",
    "    for text in text_list:\n",
    "        cut = [each for each in jieba.cut(text) if each not in stop and not re.match(r'\\d+', each)]\n",
    "        if cut:\n",
    "            texts.append(text)\n",
    "            tokenized_texts.append(cut)\n",
    "    return texts, tokenized_texts\n",
    "\n",
    "texts, tokenized_texts = tokenize(contents, stopwords)\n",
    "\n",
    "inputs = [\" \".join(each) for each in tokenized_texts]\n",
    "vectorizer = TfidfVectorizer(max_features=1000)\n",
    "text_vec = vectorizer.fit_transform(inputs)"
   ]
  },
  {
   "cell_type": "code",
   "execution_count": 9,
   "id": "f0ad8c01",
   "metadata": {},
   "outputs": [],
   "source": [
    "def get_best_n_topics(n_candidates, data):\n",
    "    sse = []\n",
    "    for n in n_candidates:\n",
    "        print(f\"Kmeans with {n} centers\")\n",
    "        kmeans = KMeans(n_clusters=n, n_init=5)\n",
    "        kmeans.fit(X=data)\n",
    "        sse.append(kmeans.inertia_)\n",
    "    return sse\n",
    "\n",
    "def fit_kmeans(n, data):\n",
    "    kmeans = KMeans(n_clusters=n, n_init=5, random_state=10)\n",
    "    pred = kmeans.fit_transform(X=data)\n",
    "    return kmeans, pred"
   ]
  },
  {
   "cell_type": "code",
   "execution_count": 5,
   "id": "0f5f48e5",
   "metadata": {},
   "outputs": [],
   "source": [
    "# n = 7\n",
    "# sse = get_best_n_topics(list(range(1, 11)), text_vec)\n",
    "# plt.plot(sse)\n",
    "# plt.show()"
   ]
  },
  {
   "cell_type": "code",
   "execution_count": 10,
   "id": "064de0f5",
   "metadata": {},
   "outputs": [],
   "source": [
    "kmeans, pred = fit_kmeans(7, text_vec)"
   ]
  },
  {
   "cell_type": "code",
   "execution_count": 11,
   "id": "31fa3717",
   "metadata": {},
   "outputs": [],
   "source": [
    "pred_cls = np.argmin(pred, axis=-1)"
   ]
  },
  {
   "cell_type": "code",
   "execution_count": 12,
   "id": "07d871c0",
   "metadata": {},
   "outputs": [],
   "source": [
    "def get_key_words(text_vec, vectorizer):\n",
    "    idx_to_word = {k: v for v, k in vectorizer.vocabulary_.items()}\n",
    "    key_index = np.array(np.argmax(text_vec, axis=-1)).squeeze()\n",
    "    return [idx_to_word[k] for k in key_index]\n",
    "key_words = get_key_words(text_vec, vectorizer)"
   ]
  },
  {
   "cell_type": "code",
   "execution_count": 13,
   "id": "442c0f5c",
   "metadata": {},
   "outputs": [],
   "source": [
    "res = pd.DataFrame({\"标题\": texts, \"关键词\":key_words, \"类别\": pred_cls})\n",
    "res.to_csv(\"分类结果.csv\", index=False)"
   ]
  },
  {
   "cell_type": "code",
   "execution_count": 14,
   "id": "433ca4e7",
   "metadata": {},
   "outputs": [
    {
     "data": {
      "text/html": [
       "<div>\n",
       "<style scoped>\n",
       "    .dataframe tbody tr th:only-of-type {\n",
       "        vertical-align: middle;\n",
       "    }\n",
       "\n",
       "    .dataframe tbody tr th {\n",
       "        vertical-align: top;\n",
       "    }\n",
       "\n",
       "    .dataframe thead th {\n",
       "        text-align: right;\n",
       "    }\n",
       "</style>\n",
       "<table border=\"1\" class=\"dataframe\">\n",
       "  <thead>\n",
       "    <tr style=\"text-align: right;\">\n",
       "      <th></th>\n",
       "      <th>标题</th>\n",
       "      <th>关键词</th>\n",
       "      <th>类别</th>\n",
       "    </tr>\n",
       "  </thead>\n",
       "  <tbody>\n",
       "    <tr>\n",
       "      <th>0</th>\n",
       "      <td>姆巴佩爆抽2脚连刷俩球 世界杯进球超C罗追平梅西</td>\n",
       "      <td>姆巴</td>\n",
       "      <td>0</td>\n",
       "    </tr>\n",
       "    <tr>\n",
       "      <th>1</th>\n",
       "      <td>打破魔咒！梅西打入世界杯淘汰赛首球 总进球超C罗</td>\n",
       "      <td>首球</td>\n",
       "      <td>0</td>\n",
       "    </tr>\n",
       "    <tr>\n",
       "      <th>2</th>\n",
       "      <td>不敢相信!日本4个点球罚丢仨 南野三笘薰全软脚</td>\n",
       "      <td>点球</td>\n",
       "      <td>0</td>\n",
       "    </tr>\n",
       "    <tr>\n",
       "      <th>3</th>\n",
       "      <td>加时专业户!克罗地亚近8场大赛7场加时 还总能赢球</td>\n",
       "      <td>加时</td>\n",
       "      <td>0</td>\n",
       "    </tr>\n",
       "    <tr>\n",
       "      <th>4</th>\n",
       "      <td>天花板!日本队连续2届无缘8强 4次冲击全部败北</td>\n",
       "      <td>日本队</td>\n",
       "      <td>0</td>\n",
       "    </tr>\n",
       "    <tr>\n",
       "      <th>...</th>\n",
       "      <td>...</td>\n",
       "      <td>...</td>\n",
       "      <td>...</td>\n",
       "    </tr>\n",
       "    <tr>\n",
       "      <th>21252</th>\n",
       "      <td>日媒：森保一将连任日本男足主教练 带队征战下届世界杯</td>\n",
       "      <td>带队</td>\n",
       "      <td>0</td>\n",
       "    </tr>\n",
       "    <tr>\n",
       "      <th>21253</th>\n",
       "      <td>4年后美加墨世界杯扩军 中国男足看到曙光？</td>\n",
       "      <td>中国男足</td>\n",
       "      <td>0</td>\n",
       "    </tr>\n",
       "    <tr>\n",
       "      <th>21254</th>\n",
       "      <td>回眸2022之乒乓：老将弥坚新人蜕变 国乒诠释长盛不衰</td>\n",
       "      <td>老将</td>\n",
       "      <td>0</td>\n",
       "    </tr>\n",
       "    <tr>\n",
       "      <th>21255</th>\n",
       "      <td>CBA：2分险胜四川 北京首钢主帅解立彬用人调整获赞</td>\n",
       "      <td>调整</td>\n",
       "      <td>0</td>\n",
       "    </tr>\n",
       "    <tr>\n",
       "      <th>21256</th>\n",
       "      <td>回眸2022之乒乓：老将弥坚新人蜕变 国乒诠释长盛不衰</td>\n",
       "      <td>老将</td>\n",
       "      <td>0</td>\n",
       "    </tr>\n",
       "  </tbody>\n",
       "</table>\n",
       "<p>21257 rows × 3 columns</p>\n",
       "</div>"
      ],
      "text/plain": [
       "                                标题   关键词  类别\n",
       "0         姆巴佩爆抽2脚连刷俩球 世界杯进球超C罗追平梅西    姆巴   0\n",
       "1         打破魔咒！梅西打入世界杯淘汰赛首球 总进球超C罗    首球   0\n",
       "2          不敢相信!日本4个点球罚丢仨 南野三笘薰全软脚    点球   0\n",
       "3        加时专业户!克罗地亚近8场大赛7场加时 还总能赢球    加时   0\n",
       "4         天花板!日本队连续2届无缘8强 4次冲击全部败北   日本队   0\n",
       "...                            ...   ...  ..\n",
       "21252   日媒：森保一将连任日本男足主教练 带队征战下届世界杯    带队   0\n",
       "21253        4年后美加墨世界杯扩军 中国男足看到曙光？  中国男足   0\n",
       "21254  回眸2022之乒乓：老将弥坚新人蜕变 国乒诠释长盛不衰    老将   0\n",
       "21255   CBA：2分险胜四川 北京首钢主帅解立彬用人调整获赞    调整   0\n",
       "21256  回眸2022之乒乓：老将弥坚新人蜕变 国乒诠释长盛不衰    老将   0\n",
       "\n",
       "[21257 rows x 3 columns]"
      ]
     },
     "execution_count": 14,
     "metadata": {},
     "output_type": "execute_result"
    }
   ],
   "source": [
    "res"
   ]
  }
 ],
 "metadata": {
  "kernelspec": {
   "display_name": "Python 3 (ipykernel)",
   "language": "python",
   "name": "python3"
  },
  "language_info": {
   "codemirror_mode": {
    "name": "ipython",
    "version": 3
   },
   "file_extension": ".py",
   "mimetype": "text/x-python",
   "name": "python",
   "nbconvert_exporter": "python",
   "pygments_lexer": "ipython3",
   "version": "3.9.12"
  }
 },
 "nbformat": 4,
 "nbformat_minor": 5
}
